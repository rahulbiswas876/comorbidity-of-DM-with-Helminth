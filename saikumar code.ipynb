{
 "cells": [
  {
   "cell_type": "code",
   "execution_count": 47,
   "metadata": {
    "scrolled": true
   },
   "outputs": [
    {
     "name": "stdout",
     "output_type": "stream",
     "text": [
      "Libraries Imported\n",
      "0.95\n"
     ]
    }
   ],
   "source": [
    "import numpy as np\n",
    "import pandas as pd\n",
    "from sklearn.model_selection import train_test_split\n",
    "from sklearn.preprocessing import StandardScaler\n",
    "from sklearn.ensemble import RandomForestClassifier\n",
    "from sklearn.metrics import confusion_matrix\n",
    "from sklearn.externals import joblib\n",
    "from sklearn.feature_selection import SelectKBest, chi2\n",
    "import seaborn as sns\n",
    "import matplotlib.pyplot as plt\n",
    "#print('Libraries Imported')\n",
    "\n",
    "HelpDMm_res_v1 = pd.read_csv('Hel+DM-_res_v1.txt', sep=\"\\t\")\n",
    "HelpDMp_res_v1 = pd.read_csv('Hel+DM+_res_v1.txt', sep=\"\\t\")\n",
    "HelmDMm_res_v1 = pd.read_csv('Hel-DM-_res_v1.txt', sep=\"\\t\")\n",
    "HelmDMp_res_v1 = pd.read_csv('Hel-DM+_res_v1.txt', sep=\"\\t\")\n",
    "\n",
    "HelpDMm_res_v1['type']=0      #+-\n",
    "HelpDMp_res_v1['type']=1     # ++\n",
    "HelmDMm_res_v1['type']=2     #--\n",
    "HelmDMp_res_v1['type']=3    #-+\n",
    "\n",
    "data_frame1=HelpDMm_res_v1.append(HelpDMp_res_v1)\n",
    "data_frame2=HelmDMm_res_v1.append(HelmDMp_res_v1)\n",
    "dataframe=data_frame1.append(data_frame2)\n",
    "#print(dataframe)\n",
    "X = dataframe.iloc[:,0:50].values\n",
    "y = dataframe.iloc[:,50].values\n",
    "#print(dataframe)\n",
    "\n",
    "#print(\"coloumns of the dataset\",dataframe.columns)\n",
    "\n",
    "X_train, X_test, y_train, y_test = train_test_split(X,y,test_size= 0.25,random_state=21)\n",
    "classifier = RandomForestClassifier(n_estimators=50,criterion='gini',max_depth=None,min_samples_split=2,min_samples_leaf=1,bootstrap=True,n_jobs=-1)\n",
    "classifier.fit(X_train, y_train)\n",
    "a=classifier.feature_importances_\n",
    "print(classifier.score(X_test,y_test))\n",
    "\n",
    "#dataframe[\"type\"].value_counts()\n",
    "#helposdmneg=dataframe.loc[dataframe[\"type\"] == 0];\n",
    "#helposdmpos=dataframe.loc[dataframe[\"type\"] == 1];\n",
    "#helnegdmneg=dataframe.loc[dataframe[\"type\"] == 2];\n",
    "#helnegdmpos=dataframe.loc[dataframe[\"type\"] == 3];\n",
    "\n",
    "#features=dataframe.columns\n",
    "#print(type(features))\n",
    "#plt.plot(helposdmneg[\"Urea (mg/dl)\"], np.zeros_like(helposdmneg[\"Urea (mg/dl)\"]), 'o')\n",
    "#plt.plot(helposdmpos[\"Urea (mg/dl)\"], np.zeros_like(helposdmpos[\"Urea (mg/dl)\"]), 'o')\n",
    "#plt.plot(helnegdmneg[\"Urea (mg/dl)\"], np.zeros_like(helnegdmneg[\"Urea (mg/dl)\"]), 'o')\n",
    "#plt.plot(helnegdmpos[\"Urea (mg/dl)\"], np.zeros_like(helnegdmpos[\"Urea (mg/dl)\"]), 'o')\n",
    "\n",
    "#plt.show()\n",
    "\n",
    "#sns.FacetGrid(dataframe, hue=\"type\", size=5).map(sns.distplot,\"Urea (mg/dl)\").add_legend();\n",
    "#plt.show();\n",
    "\n",
    "\n",
    "#for s in dataframe.columns:\n",
    " #    sns.FacetGrid(dataframe, hue=\"type\", size=5).map(sns.distplot,s).add_legend();\n",
    "  #   plt.show();\n",
    "        \n",
    "\n"
   ]
  },
  {
   "cell_type": "code",
   "execution_count": null,
   "metadata": {},
   "outputs": [],
   "source": []
  },
  {
   "cell_type": "code",
   "execution_count": null,
   "metadata": {},
   "outputs": [],
   "source": []
  }
 ],
 "metadata": {
  "kernelspec": {
   "display_name": "Python 3",
   "language": "python",
   "name": "python3"
  },
  "language_info": {
   "codemirror_mode": {
    "name": "ipython",
    "version": 3
   },
   "file_extension": ".py",
   "mimetype": "text/x-python",
   "name": "python",
   "nbconvert_exporter": "python",
   "pygments_lexer": "ipython3",
   "version": "3.6.5"
  }
 },
 "nbformat": 4,
 "nbformat_minor": 2
}
